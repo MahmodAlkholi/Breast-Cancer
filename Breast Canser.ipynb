{
 "cells": [
  {
   "cell_type": "markdown",
   "id": "c07c6b5e-4d73-4aea-b539-9f57cabcef28",
   "metadata": {},
   "source": [
    "# importing libraries"
   ]
  },
  {
   "cell_type": "code",
   "execution_count": null,
   "id": "2335d95e",
   "metadata": {},
   "outputs": [],
   "source": []
  },
  {
   "cell_type": "code",
   "execution_count": 1,
   "id": "acb86b7f-c24f-42af-8ed1-9cb5e66e241a",
   "metadata": {},
   "outputs": [
    {
     "name": "stderr",
     "output_type": "stream",
     "text": [
      "2024-03-08 15:43:26.448841: I external/local_tsl/tsl/cuda/cudart_stub.cc:31] Could not find cuda drivers on your machine, GPU will not be used.\n",
      "2024-03-08 15:43:26.877696: E external/local_xla/xla/stream_executor/cuda/cuda_dnn.cc:9261] Unable to register cuDNN factory: Attempting to register factory for plugin cuDNN when one has already been registered\n",
      "2024-03-08 15:43:26.877795: E external/local_xla/xla/stream_executor/cuda/cuda_fft.cc:607] Unable to register cuFFT factory: Attempting to register factory for plugin cuFFT when one has already been registered\n",
      "2024-03-08 15:43:26.955782: E external/local_xla/xla/stream_executor/cuda/cuda_blas.cc:1515] Unable to register cuBLAS factory: Attempting to register factory for plugin cuBLAS when one has already been registered\n",
      "2024-03-08 15:43:27.119644: I external/local_tsl/tsl/cuda/cudart_stub.cc:31] Could not find cuda drivers on your machine, GPU will not be used.\n",
      "2024-03-08 15:43:27.121425: I tensorflow/core/platform/cpu_feature_guard.cc:182] This TensorFlow binary is optimized to use available CPU instructions in performance-critical operations.\n",
      "To enable the following instructions: AVX2 FMA, in other operations, rebuild TensorFlow with the appropriate compiler flags.\n",
      "2024-03-08 15:43:28.845064: W tensorflow/compiler/tf2tensorrt/utils/py_utils.cc:38] TF-TRT Warning: Could not find TensorRT\n"
     ]
    }
   ],
   "source": [
    "import numpy as np\n",
    "import pandas as pd\n",
    "import matplotlib.pyplot as plt\n",
    "import seaborn as sns\n",
    "import tensorflow as tf\n",
    "from tensorflow.keras.optimizers import SGD\n",
    "import cv2 as cv\n",
    "import os\n",
    "from sklearn.preprocessing import LabelEncoder\n",
    "from tensorflow.keras.utils import image_dataset_from_directory\n",
    "from tensorflow.keras.layers import  Input , Dense ,Conv2D , MaxPooling2D ,RandomTranslation , RandomFlip , RandomRotation,RandomZoom ,BatchNormalization ,Flatten , Rescaling , Dropout\n",
    "from tensorflow.keras.optimizers import Adam\n",
    "from tensorflow.keras.models import Sequential\n",
    "from tensorflow.keras.models import Model\n",
    "from sklearn.model_selection import train_test_split\n",
    "import warnings\n",
    "warnings.filterwarnings(\"ignore\")"
   ]
  },
  {
   "cell_type": "markdown",
   "id": "bdf74e92-cd42-41b2-a3a7-63c449973718",
   "metadata": {},
   "source": [
    "# images path"
   ]
  },
  {
   "cell_type": "code",
   "execution_count": 2,
   "id": "6cd4071c-9af9-4176-9624-8a22b7f628ef",
   "metadata": {},
   "outputs": [
    {
     "data": {
      "text/plain": [
       "'./archive/Breast Cancer/train'"
      ]
     },
     "execution_count": 2,
     "metadata": {},
     "output_type": "execute_result"
    }
   ],
   "source": [
    "data_path = \"./archive/Breast Cancer/train\"\n",
    "data_path"
   ]
  },
  {
   "cell_type": "code",
   "execution_count": 3,
   "id": "359bb224-a272-4936-8144-6d442c49a280",
   "metadata": {},
   "outputs": [
    {
     "name": "stdout",
     "output_type": "stream",
     "text": [
      "Found 7000 files belonging to 2 classes.\n",
      "Using 5600 files for training.\n",
      "Using 1400 files for validation.\n"
     ]
    }
   ],
   "source": [
    "train_batches , val_batches = image_dataset_from_directory(\n",
    "                                data_path,\n",
    "                                batch_size=64,\n",
    "                                image_size=(224,224),\n",
    "                                labels = \"inferred\",\n",
    "                                label_mode=\"int\",\n",
    "                                validation_split=.2,\n",
    "                                subset=\"both\",\n",
    "                                seed=0\n",
    ")\n",
    "    "
   ]
  },
  {
   "cell_type": "code",
   "execution_count": 4,
   "id": "3bc77490-663b-4fcf-b026-2824d03f1c29",
   "metadata": {},
   "outputs": [
    {
     "data": {
      "text/plain": [
       "'./archive/Breast Cancer/test'"
      ]
     },
     "execution_count": 4,
     "metadata": {},
     "output_type": "execute_result"
    }
   ],
   "source": [
    "test_path = \"./archive/Breast Cancer/test\"\n",
    "test_path"
   ]
  },
  {
   "cell_type": "code",
   "execution_count": 5,
   "id": "e7c37d98-6a40-4584-b464-58deff4835f2",
   "metadata": {},
   "outputs": [
    {
     "name": "stdout",
     "output_type": "stream",
     "text": [
      "Found 1500 files belonging to 2 classes.\n"
     ]
    }
   ],
   "source": [
    "test_batches = image_dataset_from_directory(\n",
    "                                            test_path,\n",
    "                                            batch_size=64,\n",
    "                                            image_size=(224,224),\n",
    "                                            seed=0\n",
    ")"
   ]
  },
  {
   "cell_type": "code",
   "execution_count": null,
   "id": "07d69c11-3c03-4337-8994-21499ef3632a",
   "metadata": {},
   "outputs": [],
   "source": []
  },
  {
   "cell_type": "code",
   "execution_count": 6,
   "id": "eba800ba-daed-4f53-8bd9-32b22230414c",
   "metadata": {},
   "outputs": [
    {
     "data": {
      "text/plain": [
       "()"
      ]
     },
     "execution_count": 6,
     "metadata": {},
     "output_type": "execute_result"
    }
   ],
   "source": [
    "np.shape(train_batches)"
   ]
  },
  {
   "cell_type": "code",
   "execution_count": 7,
   "id": "a9f904f3-d1ea-44de-9a13-927855041ce1",
   "metadata": {},
   "outputs": [
    {
     "data": {
      "text/plain": [
       "<_PrefetchDataset element_spec=(TensorSpec(shape=(None, 224, 224, 3), dtype=tf.float32, name=None), TensorSpec(shape=(None,), dtype=tf.int32, name=None))>"
      ]
     },
     "execution_count": 7,
     "metadata": {},
     "output_type": "execute_result"
    }
   ],
   "source": [
    "train_batches"
   ]
  },
  {
   "cell_type": "markdown",
   "id": "e67fbc2e-5c26-40ed-98f3-d013e58d292d",
   "metadata": {},
   "source": [
    "# Building Model"
   ]
  },
  {
   "cell_type": "code",
   "execution_count": 8,
   "id": "cc19b3d7-747d-44a3-b9d8-32dd559f2047",
   "metadata": {},
   "outputs": [],
   "source": [
    "model = Sequential([\n",
    "    Rescaling((1/255)),\n",
    "    Conv2D(filters=128, kernel_size=(3, 3), strides=1, padding='same', activation='relu', input_shape=((224, 224, 3))),\n",
    "    MaxPooling2D(pool_size=(2, 2), strides=2),\n",
    "    Dropout(rate=0.5),\n",
    "    Conv2D(filters=64, kernel_size=(5, 5), strides=1, padding='same', activation='relu'),\n",
    "    MaxPooling2D(pool_size=(2, 2), strides=2),\n",
    "    Dropout(rate=0.5),\n",
    "    Conv2D(filters=64, kernel_size=(5, 5), strides=1, padding='same', activation='relu'),\n",
    "    MaxPooling2D(pool_size=(2, 2), strides=2),\n",
    "    Dropout(rate=0.5),\n",
    "    Conv2D(filters=32, kernel_size=(3, 3), strides=1, padding='same', activation='relu'),\n",
    "    MaxPooling2D(pool_size=(2, 2), strides=2),\n",
    "\n",
    "    Flatten(),\n",
    "    Dropout(rate=0.5),\n",
    "    Dense(units=1, activation='sigmoid'),\n",
    "])"
   ]
  },
  {
   "cell_type": "code",
   "execution_count": 9,
   "id": "511cb073-8911-4cb4-920b-2282e4471737",
   "metadata": {},
   "outputs": [],
   "source": [
    "model.compile(loss=\"binary_crossentropy\",\n",
    "              metrics=[\"accuracy\"],\n",
    "                  optimizer=Adam(learning_rate=0.001))"
   ]
  },
  {
   "cell_type": "markdown",
   "id": "75e1e112-ace5-4b6b-be47-8f4bd6e12870",
   "metadata": {},
   "source": [
    "# Training the Model"
   ]
  },
  {
   "cell_type": "code",
   "execution_count": 10,
   "id": "310047dd-67da-4151-a05e-29c8f74e33b5",
   "metadata": {},
   "outputs": [
    {
     "name": "stdout",
     "output_type": "stream",
     "text": [
      "Epoch 1/50\n"
     ]
    },
    {
     "name": "stderr",
     "output_type": "stream",
     "text": [
      "2024-03-05 20:09:04.343604: I tensorflow/core/kernels/data/shuffle_dataset_op.cc:422] ShuffleDatasetV3:8: Filling up shuffle buffer (this may take a while): 207 of 512\n",
      "2024-03-05 20:09:18.223136: I tensorflow/core/kernels/data/shuffle_dataset_op.cc:452] Shuffle buffer filled.\n",
      "2024-03-05 20:09:20.764175: W external/local_tsl/tsl/framework/cpu_allocator_impl.cc:83] Allocation of 1644167168 exceeds 10% of free system memory.\n",
      "2024-03-05 20:09:28.275570: W external/local_tsl/tsl/framework/cpu_allocator_impl.cc:83] Allocation of 822083584 exceeds 10% of free system memory.\n",
      "2024-03-05 20:09:28.275777: W external/local_tsl/tsl/framework/cpu_allocator_impl.cc:83] Allocation of 1644167168 exceeds 10% of free system memory.\n"
     ]
    },
    {
     "name": "stdout",
     "output_type": "stream",
     "text": [
      " 1/88 [..............................] - ETA: 58:53 - loss: 0.9211 - accuracy: 0.4062"
     ]
    },
    {
     "name": "stderr",
     "output_type": "stream",
     "text": [
      "2024-03-05 20:09:34.065925: W external/local_tsl/tsl/framework/cpu_allocator_impl.cc:83] Allocation of 1644167168 exceeds 10% of free system memory.\n",
      "2024-03-05 20:09:42.577603: W external/local_tsl/tsl/framework/cpu_allocator_impl.cc:83] Allocation of 822083584 exceeds 10% of free system memory.\n"
     ]
    },
    {
     "name": "stdout",
     "output_type": "stream",
     "text": [
      "88/88 [==============================] - 1214s 13s/step - loss: 0.6868 - accuracy: 0.5398 - val_loss: 0.6157 - val_accuracy: 0.6921\n",
      "Epoch 2/50\n"
     ]
    },
    {
     "name": "stderr",
     "output_type": "stream",
     "text": [
      "2024-03-05 20:29:17.667856: I tensorflow/core/kernels/data/shuffle_dataset_op.cc:422] ShuffleDatasetV3:8: Filling up shuffle buffer (this may take a while): 195 of 512\n",
      "2024-03-05 20:29:31.695901: I tensorflow/core/kernels/data/shuffle_dataset_op.cc:452] Shuffle buffer filled.\n"
     ]
    },
    {
     "name": "stdout",
     "output_type": "stream",
     "text": [
      "88/88 [==============================] - 1198s 13s/step - loss: 0.3985 - accuracy: 0.8305 - val_loss: 0.3725 - val_accuracy: 0.8807\n",
      "Epoch 3/50\n"
     ]
    },
    {
     "name": "stderr",
     "output_type": "stream",
     "text": [
      "2024-03-05 20:49:16.065288: I tensorflow/core/kernels/data/shuffle_dataset_op.cc:422] ShuffleDatasetV3:8: Filling up shuffle buffer (this may take a while): 188 of 512\n",
      "2024-03-05 20:49:31.437080: I tensorflow/core/kernels/data/shuffle_dataset_op.cc:452] Shuffle buffer filled.\n"
     ]
    },
    {
     "name": "stdout",
     "output_type": "stream",
     "text": [
      "88/88 [==============================] - 1236s 14s/step - loss: 0.2997 - accuracy: 0.8868 - val_loss: 0.2931 - val_accuracy: 0.8979\n",
      "Epoch 4/50\n"
     ]
    },
    {
     "name": "stderr",
     "output_type": "stream",
     "text": [
      "2024-03-05 21:09:52.041183: I tensorflow/core/kernels/data/shuffle_dataset_op.cc:422] ShuffleDatasetV3:8: Filling up shuffle buffer (this may take a while): 187 of 512\n",
      "2024-03-05 21:10:02.037459: I tensorflow/core/kernels/data/shuffle_dataset_op.cc:422] ShuffleDatasetV3:8: Filling up shuffle buffer (this may take a while): 397 of 512\n",
      "2024-03-05 21:10:06.913108: I tensorflow/core/kernels/data/shuffle_dataset_op.cc:452] Shuffle buffer filled.\n"
     ]
    },
    {
     "name": "stdout",
     "output_type": "stream",
     "text": [
      "88/88 [==============================] - 1196s 13s/step - loss: 0.2995 - accuracy: 0.8855 - val_loss: 0.3207 - val_accuracy: 0.8943\n",
      "Epoch 5/50\n"
     ]
    },
    {
     "name": "stderr",
     "output_type": "stream",
     "text": [
      "2024-03-05 21:29:48.265906: I tensorflow/core/kernels/data/shuffle_dataset_op.cc:422] ShuffleDatasetV3:8: Filling up shuffle buffer (this may take a while): 189 of 512\n",
      "2024-03-05 21:29:58.383117: I tensorflow/core/kernels/data/shuffle_dataset_op.cc:422] ShuffleDatasetV3:8: Filling up shuffle buffer (this may take a while): 404 of 512\n",
      "2024-03-05 21:30:03.276986: I tensorflow/core/kernels/data/shuffle_dataset_op.cc:452] Shuffle buffer filled.\n"
     ]
    },
    {
     "name": "stdout",
     "output_type": "stream",
     "text": [
      "88/88 [==============================] - 1227s 14s/step - loss: 0.2951 - accuracy: 0.8886 - val_loss: 0.2671 - val_accuracy: 0.9114\n",
      "Epoch 6/50\n"
     ]
    },
    {
     "name": "stderr",
     "output_type": "stream",
     "text": [
      "2024-03-05 21:50:15.213752: I tensorflow/core/kernels/data/shuffle_dataset_op.cc:422] ShuffleDatasetV3:8: Filling up shuffle buffer (this may take a while): 193 of 512\n",
      "2024-03-05 21:50:25.249027: I tensorflow/core/kernels/data/shuffle_dataset_op.cc:422] ShuffleDatasetV3:8: Filling up shuffle buffer (this may take a while): 394 of 512\n",
      "2024-03-05 21:50:30.209823: I tensorflow/core/kernels/data/shuffle_dataset_op.cc:452] Shuffle buffer filled.\n"
     ]
    },
    {
     "name": "stdout",
     "output_type": "stream",
     "text": [
      "88/88 [==============================] - 1207s 13s/step - loss: 0.2837 - accuracy: 0.8888 - val_loss: 0.2608 - val_accuracy: 0.9036\n",
      "Epoch 7/50\n"
     ]
    },
    {
     "name": "stderr",
     "output_type": "stream",
     "text": [
      "2024-03-05 22:10:22.091789: I tensorflow/core/kernels/data/shuffle_dataset_op.cc:422] ShuffleDatasetV3:8: Filling up shuffle buffer (this may take a while): 193 of 512\n",
      "2024-03-05 22:10:36.821693: I tensorflow/core/kernels/data/shuffle_dataset_op.cc:452] Shuffle buffer filled.\n"
     ]
    },
    {
     "name": "stdout",
     "output_type": "stream",
     "text": [
      "88/88 [==============================] - 1203s 13s/step - loss: 0.2653 - accuracy: 0.8961 - val_loss: 0.2341 - val_accuracy: 0.9114\n",
      "Epoch 8/50\n"
     ]
    },
    {
     "name": "stderr",
     "output_type": "stream",
     "text": [
      "2024-03-05 22:30:25.332090: I tensorflow/core/kernels/data/shuffle_dataset_op.cc:422] ShuffleDatasetV3:8: Filling up shuffle buffer (this may take a while): 190 of 512\n",
      "2024-03-05 22:30:35.350955: I tensorflow/core/kernels/data/shuffle_dataset_op.cc:422] ShuffleDatasetV3:8: Filling up shuffle buffer (this may take a while): 397 of 512\n",
      "2024-03-05 22:30:40.274394: I tensorflow/core/kernels/data/shuffle_dataset_op.cc:452] Shuffle buffer filled.\n"
     ]
    },
    {
     "name": "stdout",
     "output_type": "stream",
     "text": [
      "88/88 [==============================] - 1224s 14s/step - loss: 0.2262 - accuracy: 0.9114 - val_loss: 0.2061 - val_accuracy: 0.9221\n",
      "Epoch 9/50\n"
     ]
    },
    {
     "name": "stderr",
     "output_type": "stream",
     "text": [
      "2024-03-05 22:50:49.485062: I tensorflow/core/kernels/data/shuffle_dataset_op.cc:422] ShuffleDatasetV3:8: Filling up shuffle buffer (this may take a while): 193 of 512\n",
      "2024-03-05 22:51:04.519209: I tensorflow/core/kernels/data/shuffle_dataset_op.cc:452] Shuffle buffer filled.\n"
     ]
    },
    {
     "name": "stdout",
     "output_type": "stream",
     "text": [
      "88/88 [==============================] - 1209s 13s/step - loss: 0.2113 - accuracy: 0.9186 - val_loss: 0.1874 - val_accuracy: 0.9293\n",
      "Epoch 10/50\n"
     ]
    },
    {
     "name": "stderr",
     "output_type": "stream",
     "text": [
      "2024-03-05 23:10:58.368041: I tensorflow/core/kernels/data/shuffle_dataset_op.cc:422] ShuffleDatasetV3:8: Filling up shuffle buffer (this may take a while): 198 of 512\n",
      "2024-03-05 23:11:12.401521: I tensorflow/core/kernels/data/shuffle_dataset_op.cc:452] Shuffle buffer filled.\n"
     ]
    },
    {
     "name": "stdout",
     "output_type": "stream",
     "text": [
      "88/88 [==============================] - 1227s 14s/step - loss: 0.1903 - accuracy: 0.9264 - val_loss: 0.1821 - val_accuracy: 0.9257\n",
      "Epoch 11/50\n"
     ]
    },
    {
     "name": "stderr",
     "output_type": "stream",
     "text": [
      "2024-03-05 23:31:25.914932: I tensorflow/core/kernels/data/shuffle_dataset_op.cc:422] ShuffleDatasetV3:8: Filling up shuffle buffer (this may take a while): 199 of 512\n",
      "2024-03-05 23:31:35.963037: I tensorflow/core/kernels/data/shuffle_dataset_op.cc:422] ShuffleDatasetV3:8: Filling up shuffle buffer (this may take a while): 425 of 512\n",
      "2024-03-05 23:31:39.808342: I tensorflow/core/kernels/data/shuffle_dataset_op.cc:452] Shuffle buffer filled.\n"
     ]
    },
    {
     "name": "stdout",
     "output_type": "stream",
     "text": [
      "88/88 [==============================] - 1188s 13s/step - loss: 0.1663 - accuracy: 0.9389 - val_loss: 0.1721 - val_accuracy: 0.9364\n",
      "Epoch 12/50\n"
     ]
    },
    {
     "name": "stderr",
     "output_type": "stream",
     "text": [
      "2024-03-05 23:51:14.431221: I tensorflow/core/kernels/data/shuffle_dataset_op.cc:422] ShuffleDatasetV3:8: Filling up shuffle buffer (this may take a while): 190 of 512\n",
      "2024-03-05 23:51:24.452136: I tensorflow/core/kernels/data/shuffle_dataset_op.cc:422] ShuffleDatasetV3:8: Filling up shuffle buffer (this may take a while): 421 of 512\n",
      "2024-03-05 23:51:28.178246: I tensorflow/core/kernels/data/shuffle_dataset_op.cc:452] Shuffle buffer filled.\n"
     ]
    },
    {
     "name": "stdout",
     "output_type": "stream",
     "text": [
      "88/88 [==============================] - 1197s 13s/step - loss: 0.1696 - accuracy: 0.9345 - val_loss: 0.1633 - val_accuracy: 0.9407\n",
      "Epoch 13/50\n"
     ]
    },
    {
     "name": "stderr",
     "output_type": "stream",
     "text": [
      "2024-03-06 00:11:10.949188: I tensorflow/core/kernels/data/shuffle_dataset_op.cc:422] ShuffleDatasetV3:8: Filling up shuffle buffer (this may take a while): 187 of 512\n",
      "2024-03-06 00:11:20.975177: I tensorflow/core/kernels/data/shuffle_dataset_op.cc:422] ShuffleDatasetV3:8: Filling up shuffle buffer (this may take a while): 392 of 512\n",
      "2024-03-06 00:11:26.521907: I tensorflow/core/kernels/data/shuffle_dataset_op.cc:452] Shuffle buffer filled.\n"
     ]
    },
    {
     "name": "stdout",
     "output_type": "stream",
     "text": [
      "88/88 [==============================] - 1209s 13s/step - loss: 0.1628 - accuracy: 0.9425 - val_loss: 0.1341 - val_accuracy: 0.9507\n",
      "Epoch 14/50\n"
     ]
    },
    {
     "name": "stderr",
     "output_type": "stream",
     "text": [
      "2024-03-06 00:31:19.817986: I tensorflow/core/kernels/data/shuffle_dataset_op.cc:422] ShuffleDatasetV3:8: Filling up shuffle buffer (this may take a while): 189 of 512\n",
      "2024-03-06 00:31:35.251288: I tensorflow/core/kernels/data/shuffle_dataset_op.cc:452] Shuffle buffer filled.\n"
     ]
    },
    {
     "name": "stdout",
     "output_type": "stream",
     "text": [
      "88/88 [==============================] - 1277s 14s/step - loss: 0.1565 - accuracy: 0.9416 - val_loss: 0.1627 - val_accuracy: 0.9379\n",
      "Epoch 15/50\n"
     ]
    },
    {
     "name": "stderr",
     "output_type": "stream",
     "text": [
      "2024-03-06 00:52:36.675700: I tensorflow/core/kernels/data/shuffle_dataset_op.cc:422] ShuffleDatasetV3:8: Filling up shuffle buffer (this may take a while): 187 of 512\n",
      "2024-03-06 00:52:52.016146: I tensorflow/core/kernels/data/shuffle_dataset_op.cc:452] Shuffle buffer filled.\n"
     ]
    },
    {
     "name": "stdout",
     "output_type": "stream",
     "text": [
      "88/88 [==============================] - 1314s 15s/step - loss: 0.1456 - accuracy: 0.9443 - val_loss: 0.1609 - val_accuracy: 0.9464\n",
      "Epoch 16/50\n"
     ]
    },
    {
     "name": "stderr",
     "output_type": "stream",
     "text": [
      "2024-03-06 01:14:31.232669: I tensorflow/core/kernels/data/shuffle_dataset_op.cc:422] ShuffleDatasetV3:8: Filling up shuffle buffer (this may take a while): 189 of 512\n",
      "2024-03-06 01:14:46.491032: I tensorflow/core/kernels/data/shuffle_dataset_op.cc:452] Shuffle buffer filled.\n"
     ]
    },
    {
     "name": "stdout",
     "output_type": "stream",
     "text": [
      "88/88 [==============================] - 1220s 14s/step - loss: 0.1412 - accuracy: 0.9479 - val_loss: 0.1494 - val_accuracy: 0.9436\n",
      "Epoch 17/50\n"
     ]
    },
    {
     "name": "stderr",
     "output_type": "stream",
     "text": [
      "2024-03-06 01:34:50.915104: I tensorflow/core/kernels/data/shuffle_dataset_op.cc:422] ShuffleDatasetV3:8: Filling up shuffle buffer (this may take a while): 186 of 512\n",
      "2024-03-06 01:35:00.935005: I tensorflow/core/kernels/data/shuffle_dataset_op.cc:422] ShuffleDatasetV3:8: Filling up shuffle buffer (this may take a while): 391 of 512\n",
      "2024-03-06 01:35:06.294840: I tensorflow/core/kernels/data/shuffle_dataset_op.cc:452] Shuffle buffer filled.\n"
     ]
    },
    {
     "name": "stdout",
     "output_type": "stream",
     "text": [
      "88/88 [==============================] - 1199s 13s/step - loss: 0.1236 - accuracy: 0.9552 - val_loss: 0.1323 - val_accuracy: 0.9636\n",
      "Epoch 18/50\n"
     ]
    },
    {
     "name": "stderr",
     "output_type": "stream",
     "text": [
      "2024-03-06 01:54:50.221333: I tensorflow/core/kernels/data/shuffle_dataset_op.cc:422] ShuffleDatasetV3:8: Filling up shuffle buffer (this may take a while): 210 of 512\n",
      "2024-03-06 01:55:04.541838: I tensorflow/core/kernels/data/shuffle_dataset_op.cc:452] Shuffle buffer filled.\n"
     ]
    },
    {
     "name": "stdout",
     "output_type": "stream",
     "text": [
      "88/88 [==============================] - 1207s 13s/step - loss: 0.1205 - accuracy: 0.9559 - val_loss: 0.1392 - val_accuracy: 0.9336\n",
      "Epoch 19/50\n"
     ]
    },
    {
     "name": "stderr",
     "output_type": "stream",
     "text": [
      "2024-03-06 02:14:56.863906: I tensorflow/core/kernels/data/shuffle_dataset_op.cc:422] ShuffleDatasetV3:8: Filling up shuffle buffer (this may take a while): 181 of 512\n",
      "2024-03-06 02:15:06.884231: I tensorflow/core/kernels/data/shuffle_dataset_op.cc:422] ShuffleDatasetV3:8: Filling up shuffle buffer (this may take a while): 386 of 512\n",
      "2024-03-06 02:15:12.301838: I tensorflow/core/kernels/data/shuffle_dataset_op.cc:452] Shuffle buffer filled.\n"
     ]
    },
    {
     "name": "stdout",
     "output_type": "stream",
     "text": [
      "88/88 [==============================] - 1197s 13s/step - loss: 0.1125 - accuracy: 0.9584 - val_loss: 0.1124 - val_accuracy: 0.9564\n",
      "Epoch 20/50\n"
     ]
    },
    {
     "name": "stderr",
     "output_type": "stream",
     "text": [
      "2024-03-06 02:34:53.790548: I tensorflow/core/kernels/data/shuffle_dataset_op.cc:422] ShuffleDatasetV3:8: Filling up shuffle buffer (this may take a while): 191 of 512\n",
      "2024-03-06 02:35:08.800738: I tensorflow/core/kernels/data/shuffle_dataset_op.cc:452] Shuffle buffer filled.\n"
     ]
    },
    {
     "name": "stdout",
     "output_type": "stream",
     "text": [
      "88/88 [==============================] - 1229s 14s/step - loss: 0.1078 - accuracy: 0.9568 - val_loss: 0.0853 - val_accuracy: 0.9657\n",
      "Epoch 21/50\n"
     ]
    },
    {
     "name": "stderr",
     "output_type": "stream",
     "text": [
      "2024-03-06 02:55:23.029179: I tensorflow/core/kernels/data/shuffle_dataset_op.cc:422] ShuffleDatasetV3:8: Filling up shuffle buffer (this may take a while): 190 of 512\n",
      "2024-03-06 02:55:38.083075: I tensorflow/core/kernels/data/shuffle_dataset_op.cc:452] Shuffle buffer filled.\n"
     ]
    },
    {
     "name": "stdout",
     "output_type": "stream",
     "text": [
      "88/88 [==============================] - 1170s 13s/step - loss: 0.0848 - accuracy: 0.9679 - val_loss: 0.0754 - val_accuracy: 0.9729\n",
      "Epoch 22/50\n"
     ]
    },
    {
     "name": "stderr",
     "output_type": "stream",
     "text": [
      "2024-03-06 03:14:52.624112: I tensorflow/core/kernels/data/shuffle_dataset_op.cc:422] ShuffleDatasetV3:8: Filling up shuffle buffer (this may take a while): 190 of 512\n",
      "2024-03-06 03:15:02.649812: I tensorflow/core/kernels/data/shuffle_dataset_op.cc:422] ShuffleDatasetV3:8: Filling up shuffle buffer (this may take a while): 406 of 512\n",
      "2024-03-06 03:15:07.381569: I tensorflow/core/kernels/data/shuffle_dataset_op.cc:452] Shuffle buffer filled.\n"
     ]
    },
    {
     "name": "stdout",
     "output_type": "stream",
     "text": [
      "88/88 [==============================] - 1190s 13s/step - loss: 0.1201 - accuracy: 0.9541 - val_loss: 0.1057 - val_accuracy: 0.9593\n",
      "Epoch 23/50\n"
     ]
    },
    {
     "name": "stderr",
     "output_type": "stream",
     "text": [
      "2024-03-06 03:34:42.923330: I tensorflow/core/kernels/data/shuffle_dataset_op.cc:422] ShuffleDatasetV3:8: Filling up shuffle buffer (this may take a while): 191 of 512\n",
      "2024-03-06 03:34:57.906754: I tensorflow/core/kernels/data/shuffle_dataset_op.cc:452] Shuffle buffer filled.\n"
     ]
    },
    {
     "name": "stdout",
     "output_type": "stream",
     "text": [
      "88/88 [==============================] - 1191s 13s/step - loss: 0.0854 - accuracy: 0.9695 - val_loss: 0.0719 - val_accuracy: 0.9721\n",
      "Epoch 24/50\n"
     ]
    },
    {
     "name": "stderr",
     "output_type": "stream",
     "text": [
      "2024-03-06 03:54:34.135999: I tensorflow/core/kernels/data/shuffle_dataset_op.cc:422] ShuffleDatasetV3:8: Filling up shuffle buffer (this may take a while): 191 of 512\n",
      "2024-03-06 03:54:44.217442: I tensorflow/core/kernels/data/shuffle_dataset_op.cc:422] ShuffleDatasetV3:8: Filling up shuffle buffer (this may take a while): 397 of 512\n",
      "2024-03-06 03:54:48.887175: I tensorflow/core/kernels/data/shuffle_dataset_op.cc:452] Shuffle buffer filled.\n"
     ]
    },
    {
     "name": "stdout",
     "output_type": "stream",
     "text": [
      "88/88 [==============================] - 1213s 13s/step - loss: 0.0740 - accuracy: 0.9691 - val_loss: 0.0989 - val_accuracy: 0.9586\n",
      "Epoch 25/50\n"
     ]
    },
    {
     "name": "stderr",
     "output_type": "stream",
     "text": [
      "2024-03-06 04:14:47.029650: I tensorflow/core/kernels/data/shuffle_dataset_op.cc:422] ShuffleDatasetV3:8: Filling up shuffle buffer (this may take a while): 181 of 512\n",
      "2024-03-06 04:15:02.784328: I tensorflow/core/kernels/data/shuffle_dataset_op.cc:452] Shuffle buffer filled.\n"
     ]
    },
    {
     "name": "stdout",
     "output_type": "stream",
     "text": [
      "88/88 [==============================] - 1171s 13s/step - loss: 0.0723 - accuracy: 0.9748 - val_loss: 0.0573 - val_accuracy: 0.9764\n",
      "Epoch 26/50\n"
     ]
    },
    {
     "name": "stderr",
     "output_type": "stream",
     "text": [
      "2024-03-06 04:34:18.402830: I tensorflow/core/kernels/data/shuffle_dataset_op.cc:422] ShuffleDatasetV3:8: Filling up shuffle buffer (this may take a while): 171 of 512\n",
      "2024-03-06 04:34:35.249399: I tensorflow/core/kernels/data/shuffle_dataset_op.cc:452] Shuffle buffer filled.\n"
     ]
    },
    {
     "name": "stdout",
     "output_type": "stream",
     "text": [
      "88/88 [==============================] - 1227s 14s/step - loss: 0.0859 - accuracy: 0.9657 - val_loss: 0.0570 - val_accuracy: 0.9771\n",
      "Epoch 27/50\n"
     ]
    },
    {
     "name": "stderr",
     "output_type": "stream",
     "text": [
      "2024-03-06 04:54:45.948722: I tensorflow/core/kernels/data/shuffle_dataset_op.cc:422] ShuffleDatasetV3:8: Filling up shuffle buffer (this may take a while): 189 of 512\n",
      "2024-03-06 04:55:01.193682: I tensorflow/core/kernels/data/shuffle_dataset_op.cc:452] Shuffle buffer filled.\n"
     ]
    },
    {
     "name": "stdout",
     "output_type": "stream",
     "text": [
      "88/88 [==============================] - 1188s 13s/step - loss: 0.0804 - accuracy: 0.9711 - val_loss: 0.0549 - val_accuracy: 0.9786\n",
      "Epoch 28/50\n"
     ]
    },
    {
     "name": "stderr",
     "output_type": "stream",
     "text": [
      "2024-03-06 05:14:33.733633: I tensorflow/core/kernels/data/shuffle_dataset_op.cc:422] ShuffleDatasetV3:8: Filling up shuffle buffer (this may take a while): 186 of 512\n",
      "2024-03-06 05:14:44.148912: I tensorflow/core/kernels/data/shuffle_dataset_op.cc:422] ShuffleDatasetV3:8: Filling up shuffle buffer (this may take a while): 386 of 512\n",
      "2024-03-06 05:14:49.783341: I tensorflow/core/kernels/data/shuffle_dataset_op.cc:452] Shuffle buffer filled.\n"
     ]
    },
    {
     "name": "stdout",
     "output_type": "stream",
     "text": [
      "88/88 [==============================] - 1200s 13s/step - loss: 0.0690 - accuracy: 0.9741 - val_loss: 0.0604 - val_accuracy: 0.9779\n",
      "Epoch 29/50\n"
     ]
    },
    {
     "name": "stderr",
     "output_type": "stream",
     "text": [
      "2024-03-06 05:34:34.252446: I tensorflow/core/kernels/data/shuffle_dataset_op.cc:422] ShuffleDatasetV3:8: Filling up shuffle buffer (this may take a while): 189 of 512\n",
      "2024-03-06 05:34:44.284751: I tensorflow/core/kernels/data/shuffle_dataset_op.cc:422] ShuffleDatasetV3:8: Filling up shuffle buffer (this may take a while): 389 of 512\n",
      "2024-03-06 05:34:49.374906: I tensorflow/core/kernels/data/shuffle_dataset_op.cc:452] Shuffle buffer filled.\n"
     ]
    },
    {
     "name": "stdout",
     "output_type": "stream",
     "text": [
      "88/88 [==============================] - 1195s 13s/step - loss: 0.0564 - accuracy: 0.9786 - val_loss: 0.0874 - val_accuracy: 0.9636\n",
      "Epoch 30/50\n"
     ]
    },
    {
     "name": "stderr",
     "output_type": "stream",
     "text": [
      "2024-03-06 05:54:28.921264: I tensorflow/core/kernels/data/shuffle_dataset_op.cc:422] ShuffleDatasetV3:8: Filling up shuffle buffer (this may take a while): 193 of 512\n",
      "2024-03-06 05:54:38.978259: I tensorflow/core/kernels/data/shuffle_dataset_op.cc:422] ShuffleDatasetV3:8: Filling up shuffle buffer (this may take a while): 403 of 512\n",
      "2024-03-06 05:54:43.482838: I tensorflow/core/kernels/data/shuffle_dataset_op.cc:452] Shuffle buffer filled.\n"
     ]
    },
    {
     "name": "stdout",
     "output_type": "stream",
     "text": [
      "88/88 [==============================] - 1220s 14s/step - loss: 0.0586 - accuracy: 0.9784 - val_loss: 0.0555 - val_accuracy: 0.9793\n",
      "Epoch 31/50\n"
     ]
    },
    {
     "name": "stderr",
     "output_type": "stream",
     "text": [
      "2024-03-06 06:14:48.906992: I tensorflow/core/kernels/data/shuffle_dataset_op.cc:422] ShuffleDatasetV3:8: Filling up shuffle buffer (this may take a while): 195 of 512\n",
      "2024-03-06 06:15:03.341989: I tensorflow/core/kernels/data/shuffle_dataset_op.cc:452] Shuffle buffer filled.\n"
     ]
    },
    {
     "name": "stdout",
     "output_type": "stream",
     "text": [
      "88/88 [==============================] - 1238s 14s/step - loss: 0.0654 - accuracy: 0.9752 - val_loss: 0.0525 - val_accuracy: 0.9814\n",
      "Epoch 32/50\n"
     ]
    },
    {
     "name": "stderr",
     "output_type": "stream",
     "text": [
      "2024-03-06 06:35:27.128741: I tensorflow/core/kernels/data/shuffle_dataset_op.cc:422] ShuffleDatasetV3:8: Filling up shuffle buffer (this may take a while): 191 of 512\n",
      "2024-03-06 06:35:42.097555: I tensorflow/core/kernels/data/shuffle_dataset_op.cc:452] Shuffle buffer filled.\n"
     ]
    },
    {
     "name": "stdout",
     "output_type": "stream",
     "text": [
      "88/88 [==============================] - 1216s 14s/step - loss: 0.0565 - accuracy: 0.9773 - val_loss: 0.0405 - val_accuracy: 0.9857\n",
      "Epoch 33/50\n"
     ]
    },
    {
     "name": "stderr",
     "output_type": "stream",
     "text": [
      "2024-03-06 06:55:43.160716: I tensorflow/core/kernels/data/shuffle_dataset_op.cc:422] ShuffleDatasetV3:8: Filling up shuffle buffer (this may take a while): 188 of 512\n",
      "2024-03-06 06:55:58.945482: I tensorflow/core/kernels/data/shuffle_dataset_op.cc:452] Shuffle buffer filled.\n"
     ]
    },
    {
     "name": "stdout",
     "output_type": "stream",
     "text": [
      "88/88 [==============================] - 1221s 13s/step - loss: 0.0559 - accuracy: 0.9784 - val_loss: 0.0545 - val_accuracy: 0.9800\n",
      "Epoch 34/50\n"
     ]
    },
    {
     "name": "stderr",
     "output_type": "stream",
     "text": [
      "2024-03-06 07:16:04.111418: I tensorflow/core/kernels/data/shuffle_dataset_op.cc:422] ShuffleDatasetV3:8: Filling up shuffle buffer (this may take a while): 189 of 512\n",
      "2024-03-06 07:16:14.123791: I tensorflow/core/kernels/data/shuffle_dataset_op.cc:422] ShuffleDatasetV3:8: Filling up shuffle buffer (this may take a while): 399 of 512\n",
      "2024-03-06 07:16:19.342724: I tensorflow/core/kernels/data/shuffle_dataset_op.cc:452] Shuffle buffer filled.\n"
     ]
    },
    {
     "name": "stdout",
     "output_type": "stream",
     "text": [
      "88/88 [==============================] - 1219s 13s/step - loss: 0.0590 - accuracy: 0.9764 - val_loss: 0.0542 - val_accuracy: 0.9779\n",
      "Epoch 35/50\n"
     ]
    },
    {
     "name": "stderr",
     "output_type": "stream",
     "text": [
      "2024-03-06 07:36:22.948093: I tensorflow/core/kernels/data/shuffle_dataset_op.cc:422] ShuffleDatasetV3:8: Filling up shuffle buffer (this may take a while): 187 of 512\n",
      "2024-03-06 07:36:32.978759: I tensorflow/core/kernels/data/shuffle_dataset_op.cc:422] ShuffleDatasetV3:8: Filling up shuffle buffer (this may take a while): 380 of 512\n",
      "2024-03-06 07:36:38.670128: I tensorflow/core/kernels/data/shuffle_dataset_op.cc:452] Shuffle buffer filled.\n"
     ]
    },
    {
     "name": "stdout",
     "output_type": "stream",
     "text": [
      "88/88 [==============================] - 1221s 14s/step - loss: 0.0510 - accuracy: 0.9802 - val_loss: 0.0451 - val_accuracy: 0.9821\n",
      "Epoch 36/50\n"
     ]
    },
    {
     "name": "stderr",
     "output_type": "stream",
     "text": [
      "2024-03-06 07:56:43.913084: I tensorflow/core/kernels/data/shuffle_dataset_op.cc:422] ShuffleDatasetV3:8: Filling up shuffle buffer (this may take a while): 189 of 512\n",
      "2024-03-06 07:56:59.290466: I tensorflow/core/kernels/data/shuffle_dataset_op.cc:452] Shuffle buffer filled.\n"
     ]
    },
    {
     "name": "stdout",
     "output_type": "stream",
     "text": [
      "88/88 [==============================] - 1213s 13s/step - loss: 0.0501 - accuracy: 0.9812 - val_loss: 0.0741 - val_accuracy: 0.9736\n",
      "Epoch 37/50\n"
     ]
    },
    {
     "name": "stderr",
     "output_type": "stream",
     "text": [
      "2024-03-06 08:16:56.904631: I tensorflow/core/kernels/data/shuffle_dataset_op.cc:422] ShuffleDatasetV3:8: Filling up shuffle buffer (this may take a while): 188 of 512\n",
      "2024-03-06 08:17:07.023975: I tensorflow/core/kernels/data/shuffle_dataset_op.cc:422] ShuffleDatasetV3:8: Filling up shuffle buffer (this may take a while): 389 of 512\n",
      "2024-03-06 08:17:12.485063: I tensorflow/core/kernels/data/shuffle_dataset_op.cc:452] Shuffle buffer filled.\n"
     ]
    },
    {
     "name": "stdout",
     "output_type": "stream",
     "text": [
      "88/88 [==============================] - 1213s 13s/step - loss: 0.0438 - accuracy: 0.9841 - val_loss: 0.0354 - val_accuracy: 0.9850\n",
      "Epoch 38/50\n"
     ]
    },
    {
     "name": "stderr",
     "output_type": "stream",
     "text": [
      "2024-03-06 08:37:10.223475: I tensorflow/core/kernels/data/shuffle_dataset_op.cc:422] ShuffleDatasetV3:8: Filling up shuffle buffer (this may take a while): 191 of 512\n",
      "2024-03-06 08:37:25.413849: I tensorflow/core/kernels/data/shuffle_dataset_op.cc:452] Shuffle buffer filled.\n"
     ]
    },
    {
     "name": "stdout",
     "output_type": "stream",
     "text": [
      "88/88 [==============================] - 1229s 14s/step - loss: 0.0462 - accuracy: 0.9818 - val_loss: 0.0580 - val_accuracy: 0.9771\n",
      "Epoch 39/50\n"
     ]
    },
    {
     "name": "stderr",
     "output_type": "stream",
     "text": [
      "2024-03-06 08:57:39.831805: I tensorflow/core/kernels/data/shuffle_dataset_op.cc:422] ShuffleDatasetV3:8: Filling up shuffle buffer (this may take a while): 190 of 512\n",
      "2024-03-06 08:57:55.233925: I tensorflow/core/kernels/data/shuffle_dataset_op.cc:452] Shuffle buffer filled.\n"
     ]
    },
    {
     "name": "stdout",
     "output_type": "stream",
     "text": [
      "88/88 [==============================] - 1235s 14s/step - loss: 0.0465 - accuracy: 0.9823 - val_loss: 0.0701 - val_accuracy: 0.9764\n",
      "Epoch 40/50\n"
     ]
    },
    {
     "name": "stderr",
     "output_type": "stream",
     "text": [
      "2024-03-06 09:18:15.214998: I tensorflow/core/kernels/data/shuffle_dataset_op.cc:422] ShuffleDatasetV3:8: Filling up shuffle buffer (this may take a while): 190 of 512\n",
      "2024-03-06 09:18:31.038376: I tensorflow/core/kernels/data/shuffle_dataset_op.cc:452] Shuffle buffer filled.\n"
     ]
    },
    {
     "name": "stdout",
     "output_type": "stream",
     "text": [
      "88/88 [==============================] - 1217s 13s/step - loss: 0.0391 - accuracy: 0.9843 - val_loss: 0.0477 - val_accuracy: 0.9836\n",
      "Epoch 41/50\n"
     ]
    },
    {
     "name": "stderr",
     "output_type": "stream",
     "text": [
      "2024-03-06 09:38:31.970338: I tensorflow/core/kernels/data/shuffle_dataset_op.cc:422] ShuffleDatasetV3:8: Filling up shuffle buffer (this may take a while): 190 of 512\n",
      "2024-03-06 09:38:47.060065: I tensorflow/core/kernels/data/shuffle_dataset_op.cc:452] Shuffle buffer filled.\n"
     ]
    },
    {
     "name": "stdout",
     "output_type": "stream",
     "text": [
      "88/88 [==============================] - 1227s 14s/step - loss: 0.0500 - accuracy: 0.9809 - val_loss: 0.0622 - val_accuracy: 0.9736\n",
      "Epoch 42/50\n"
     ]
    },
    {
     "name": "stderr",
     "output_type": "stream",
     "text": [
      "2024-03-06 09:58:59.200546: I tensorflow/core/kernels/data/shuffle_dataset_op.cc:422] ShuffleDatasetV3:8: Filling up shuffle buffer (this may take a while): 193 of 512\n",
      "2024-03-06 09:59:09.262216: I tensorflow/core/kernels/data/shuffle_dataset_op.cc:422] ShuffleDatasetV3:8: Filling up shuffle buffer (this may take a while): 403 of 512\n",
      "2024-03-06 09:59:13.809955: I tensorflow/core/kernels/data/shuffle_dataset_op.cc:452] Shuffle buffer filled.\n"
     ]
    },
    {
     "name": "stdout",
     "output_type": "stream",
     "text": [
      "88/88 [==============================] - 1216s 13s/step - loss: 0.0562 - accuracy: 0.9798 - val_loss: 0.0437 - val_accuracy: 0.9829\n",
      "Epoch 43/50\n"
     ]
    },
    {
     "name": "stderr",
     "output_type": "stream",
     "text": [
      "2024-03-06 10:19:15.134505: I tensorflow/core/kernels/data/shuffle_dataset_op.cc:422] ShuffleDatasetV3:8: Filling up shuffle buffer (this may take a while): 196 of 512\n",
      "2024-03-06 10:19:25.303808: I tensorflow/core/kernels/data/shuffle_dataset_op.cc:422] ShuffleDatasetV3:8: Filling up shuffle buffer (this may take a while): 421 of 512\n",
      "2024-03-06 10:19:28.972291: I tensorflow/core/kernels/data/shuffle_dataset_op.cc:452] Shuffle buffer filled.\n"
     ]
    },
    {
     "name": "stdout",
     "output_type": "stream",
     "text": [
      "88/88 [==============================] - 1227s 14s/step - loss: 0.0415 - accuracy: 0.9836 - val_loss: 0.0358 - val_accuracy: 0.9843\n",
      "Epoch 44/50\n"
     ]
    },
    {
     "name": "stderr",
     "output_type": "stream",
     "text": [
      "2024-03-06 10:39:41.723436: I tensorflow/core/kernels/data/shuffle_dataset_op.cc:422] ShuffleDatasetV3:8: Filling up shuffle buffer (this may take a while): 188 of 512\n",
      "2024-03-06 10:39:51.762439: I tensorflow/core/kernels/data/shuffle_dataset_op.cc:422] ShuffleDatasetV3:8: Filling up shuffle buffer (this may take a while): 396 of 512\n",
      "2024-03-06 10:39:56.921371: I tensorflow/core/kernels/data/shuffle_dataset_op.cc:452] Shuffle buffer filled.\n"
     ]
    },
    {
     "name": "stdout",
     "output_type": "stream",
     "text": [
      "88/88 [==============================] - 1207s 13s/step - loss: 0.0410 - accuracy: 0.9852 - val_loss: 0.0526 - val_accuracy: 0.9814\n",
      "Epoch 45/50\n"
     ]
    },
    {
     "name": "stderr",
     "output_type": "stream",
     "text": [
      "2024-03-06 10:59:48.623779: I tensorflow/core/kernels/data/shuffle_dataset_op.cc:422] ShuffleDatasetV3:8: Filling up shuffle buffer (this may take a while): 217 of 512\n",
      "2024-03-06 10:59:58.653866: I tensorflow/core/kernels/data/shuffle_dataset_op.cc:422] ShuffleDatasetV3:8: Filling up shuffle buffer (this may take a while): 434 of 512\n",
      "2024-03-06 11:00:02.052425: I tensorflow/core/kernels/data/shuffle_dataset_op.cc:452] Shuffle buffer filled.\n"
     ]
    },
    {
     "name": "stdout",
     "output_type": "stream",
     "text": [
      "88/88 [==============================] - 1210s 13s/step - loss: 0.0415 - accuracy: 0.9852 - val_loss: 0.0550 - val_accuracy: 0.9807\n",
      "Epoch 46/50\n"
     ]
    },
    {
     "name": "stderr",
     "output_type": "stream",
     "text": [
      "2024-03-06 11:19:58.473926: I tensorflow/core/kernels/data/shuffle_dataset_op.cc:422] ShuffleDatasetV3:8: Filling up shuffle buffer (this may take a while): 189 of 512\n",
      "2024-03-06 11:20:13.362199: I tensorflow/core/kernels/data/shuffle_dataset_op.cc:452] Shuffle buffer filled.\n"
     ]
    },
    {
     "name": "stdout",
     "output_type": "stream",
     "text": [
      "88/88 [==============================] - 1278s 14s/step - loss: 0.0361 - accuracy: 0.9861 - val_loss: 0.0563 - val_accuracy: 0.9850\n",
      "Epoch 47/50\n"
     ]
    },
    {
     "name": "stderr",
     "output_type": "stream",
     "text": [
      "2024-03-06 11:41:16.266522: I tensorflow/core/kernels/data/shuffle_dataset_op.cc:422] ShuffleDatasetV3:8: Filling up shuffle buffer (this may take a while): 191 of 512\n",
      "2024-03-06 11:41:31.392015: I tensorflow/core/kernels/data/shuffle_dataset_op.cc:452] Shuffle buffer filled.\n"
     ]
    },
    {
     "name": "stdout",
     "output_type": "stream",
     "text": [
      "88/88 [==============================] - 1210s 13s/step - loss: 0.0505 - accuracy: 0.9791 - val_loss: 0.0390 - val_accuracy: 0.9843\n",
      "Epoch 48/50\n"
     ]
    },
    {
     "name": "stderr",
     "output_type": "stream",
     "text": [
      "2024-03-06 12:01:26.084215: I tensorflow/core/kernels/data/shuffle_dataset_op.cc:422] ShuffleDatasetV3:8: Filling up shuffle buffer (this may take a while): 189 of 512\n",
      "2024-03-06 12:01:40.343921: I tensorflow/core/kernels/data/shuffle_dataset_op.cc:452] Shuffle buffer filled.\n"
     ]
    },
    {
     "name": "stdout",
     "output_type": "stream",
     "text": [
      "88/88 [==============================] - 1208s 13s/step - loss: 0.0571 - accuracy: 0.9787 - val_loss: 0.0617 - val_accuracy: 0.9750\n",
      "Epoch 49/50\n"
     ]
    },
    {
     "name": "stderr",
     "output_type": "stream",
     "text": [
      "2024-03-06 12:21:34.340849: I tensorflow/core/kernels/data/shuffle_dataset_op.cc:422] ShuffleDatasetV3:8: Filling up shuffle buffer (this may take a while): 197 of 512\n",
      "2024-03-06 12:21:49.395292: I tensorflow/core/kernels/data/shuffle_dataset_op.cc:452] Shuffle buffer filled.\n"
     ]
    },
    {
     "name": "stdout",
     "output_type": "stream",
     "text": [
      "88/88 [==============================] - 1232s 14s/step - loss: 0.0511 - accuracy: 0.9807 - val_loss: 0.0405 - val_accuracy: 0.9864\n",
      "Epoch 50/50\n"
     ]
    },
    {
     "name": "stderr",
     "output_type": "stream",
     "text": [
      "2024-03-06 12:42:06.469903: I tensorflow/core/kernels/data/shuffle_dataset_op.cc:422] ShuffleDatasetV3:8: Filling up shuffle buffer (this may take a while): 198 of 512\n",
      "2024-03-06 12:42:16.557826: I tensorflow/core/kernels/data/shuffle_dataset_op.cc:422] ShuffleDatasetV3:8: Filling up shuffle buffer (this may take a while): 406 of 512\n",
      "2024-03-06 12:42:20.981797: I tensorflow/core/kernels/data/shuffle_dataset_op.cc:452] Shuffle buffer filled.\n"
     ]
    },
    {
     "name": "stdout",
     "output_type": "stream",
     "text": [
      "88/88 [==============================] - 1202s 13s/step - loss: 0.0365 - accuracy: 0.9845 - val_loss: 0.0475 - val_accuracy: 0.9843\n"
     ]
    }
   ],
   "source": [
    "history = model.fit(train_batches, epochs=50,  validation_data=val_batches)"
   ]
  },
  {
   "cell_type": "markdown",
   "id": "033c651f-e899-4d72-b78b-87ad76789a84",
   "metadata": {},
   "source": [
    "# Chick Model Loss"
   ]
  },
  {
   "cell_type": "code",
   "execution_count": 11,
   "id": "533213d6-5bc1-44b0-8ab6-5838611132cb",
   "metadata": {},
   "outputs": [
    {
     "data": {
      "image/png": "[encoded data removed]",
      "text/plain": [
       "<Figure size 640x480 with 1 Axes>"
      ]
     },
     "metadata": {},
     "output_type": "display_data"
    }
   ],
   "source": [
    "plt.plot(history.history['loss'])\n",
    "plt.plot(history.history['val_loss'])\n",
    "plt.title('model loss')\n",
    "plt.ylabel('loss')\n",
    "plt.xlabel('epoch')\n",
    "plt.legend(['train', 'val'], loc='upper left')\n",
    "plt.show()"
   ]
  },
  {
   "cell_type": "markdown",
   "id": "7c4b6a71-c951-441f-9db6-ad662470d45b",
   "metadata": {},
   "source": [
    "# Chikc Model Accuracy"
   ]
  },
  {
   "cell_type": "code",
   "execution_count": 12,
   "id": "852877c2-45fd-45a8-94ad-cc232155368e",
   "metadata": {},
   "outputs": [
    {
     "data": {
      "image/png": "[encoded data removed]",
      "text/plain": [
       "<Figure size 640x480 with 1 Axes>"
      ]
     },
     "metadata": {},
     "output_type": "display_data"
    }
   ],
   "source": [
    "plt.plot(history.history['accuracy'])\n",
    "plt.plot(history.history['val_accuracy'])\n",
    "plt.title('model accuracy')\n",
    "plt.ylabel('accuracy')\n",
    "plt.xlabel('epoch')\n",
    "plt.legend(['train', 'val'], loc='upper left')\n",
    "plt.show()"
   ]
  },
  {
   "cell_type": "markdown",
   "id": "e23510b9-c03d-43c0-8cba-7225e46025be",
   "metadata": {},
   "source": [
    "# Evaluate The Model"
   ]
  },
  {
   "cell_type": "code",
   "execution_count": 18,
   "id": "13d8df5f-4e8f-4b2f-840f-30d2c621ca93",
   "metadata": {},
   "outputs": [
    {
     "name": "stderr",
     "output_type": "stream",
     "text": [
      "2024-03-06 21:18:12.397714: I tensorflow/core/kernels/data/shuffle_dataset_op.cc:452] Shuffle buffer filled.\n"
     ]
    },
    {
     "name": "stdout",
     "output_type": "stream",
     "text": [
      "88/88 [==============================] - 278s 3s/step - loss: 0.0151 - accuracy: 0.9955\n"
     ]
    },
    {
     "data": {
      "text/plain": [
       "[0.0151302395388484, 0.9955357313156128]"
      ]
     },
     "execution_count": 18,
     "metadata": {},
     "output_type": "execute_result"
    }
   ],
   "source": [
    "model.evaluate(train_batches )"
   ]
  },
  {
   "cell_type": "code",
   "execution_count": 20,
   "id": "2f774833-cb06-42c9-9225-5906e4839db6",
   "metadata": {},
   "outputs": [
    {
     "name": "stdout",
     "output_type": "stream",
     "text": [
      "22/22 [==============================] - 242s 11s/step - loss: 0.0475 - accuracy: 0.9843\n"
     ]
    },
    {
     "data": {
      "text/plain": [
       "[0.04751022160053253, 0.9842857122421265]"
      ]
     },
     "execution_count": 20,
     "metadata": {},
     "output_type": "execute_result"
    }
   ],
   "source": [
    "model.evaluate(val_batches)"
   ]
  },
  {
   "cell_type": "code",
   "execution_count": 19,
   "id": "c51b987c-ea5b-4a60-8d15-eb9155677d0c",
   "metadata": {},
   "outputs": [
    {
     "name": "stderr",
     "output_type": "stream",
     "text": [
      "2024-03-06 21:23:24.820804: I tensorflow/core/kernels/data/shuffle_dataset_op.cc:452] Shuffle buffer filled.\n"
     ]
    },
    {
     "name": "stdout",
     "output_type": "stream",
     "text": [
      "24/24 [==============================] - 265s 10s/step - loss: 0.0562 - accuracy: 0.9787\n"
     ]
    },
    {
     "data": {
      "text/plain": [
       "[0.05619367957115173, 0.9786666631698608]"
      ]
     },
     "execution_count": 19,
     "metadata": {},
     "output_type": "execute_result"
    }
   ],
   "source": [
    "model.evaluate(test_batches )"
   ]
  },
  {
   "cell_type": "markdown",
   "id": "38edcd9f-e732-414f-98c0-6cae9f52877b",
   "metadata": {},
   "source": [
    "# Saving Model"
   ]
  },
  {
   "cell_type": "code",
   "execution_count": 13,
   "id": "b3f6489d-aabf-4b09-aaaa-190904ce8d86",
   "metadata": {},
   "outputs": [],
   "source": [
    "model.save(\"breast_canser22.h5\")"
   ]
  },
  {
   "cell_type": "code",
   "execution_count": 14,
   "id": "59283c89-26cf-4a97-973a-467a5acc19a9",
   "metadata": {},
   "outputs": [],
   "source": [
    "model.save(\"breast_canser22.keras\")"
   ]
  },
  {
   "cell_type": "code",
   "execution_count": 16,
   "id": "0fb0358c-1181-4664-a528-4bb3a2efe28f",
   "metadata": {},
   "outputs": [
    {
     "name": "stdout",
     "output_type": "stream",
     "text": [
      "INFO:tensorflow:Assets written to: breast_canser22.pkl/assets\n"
     ]
    },
    {
     "name": "stderr",
     "output_type": "stream",
     "text": [
      "INFO:tensorflow:Assets written to: breast_canser22.pkl/assets\n"
     ]
    }
   ],
   "source": [
    "model.save(\"breast_canser22.pkl\")"
   ]
  },
  {
   "cell_type": "code",
   "execution_count": null,
   "id": "34a2149e-5583-417c-8f38-be118b2ef59c",
   "metadata": {},
   "outputs": [],
   "source": []
  },
  {
   "cell_type": "code",
   "execution_count": 2,
   "id": "ca170804-f813-4fe8-aa78-4160d3942524",
   "metadata": {},
   "outputs": [],
   "source": [
    "new_model = tf.keras.models.load_model('breast_canser22.keras')\n"
   ]
  },
  {
   "cell_type": "code",
   "execution_count": 3,
   "id": "c74e95f8-8db0-494f-b0ff-338003613e68",
   "metadata": {},
   "outputs": [],
   "source": [
    "from keras.preprocessing import image"
   ]
  },
  {
   "cell_type": "markdown",
   "id": "4f432ab6-d3d8-4233-833b-10ad1817d8fe",
   "metadata": {},
   "source": [
    "# malignant"
   ]
  },
  {
   "cell_type": "code",
   "execution_count": 7,
   "id": "76bcb4c7-ebd2-4def-a762-5fac7829afb4",
   "metadata": {},
   "outputs": [],
   "source": [
    "imag_path = \"testing/malignant/breast_malignant_0210.jpg\""
   ]
  },
  {
   "cell_type": "code",
   "execution_count": 8,
   "id": "09502d4d-25e0-425b-bab7-6f983de22e58",
   "metadata": {},
   "outputs": [
    {
     "name": "stdout",
     "output_type": "stream",
     "text": [
      "1/1 [==============================] - 0s 49ms/step\n"
     ]
    },
    {
     "name": "stderr",
     "output_type": "stream",
     "text": [
      "2024-03-08 15:51:42.446506: W external/local_tsl/tsl/framework/cpu_allocator_impl.cc:83] Allocation of 25690112 exceeds 10% of free system memory.\n"
     ]
    }
   ],
   "source": [
    "test_image = tf.keras.utils.load_img(imag_path,target_size=(224,224))  \n",
    "test_image = tf.keras.utils.img_to_array(test_image)\n",
    "test_image = np.expand_dims(test_image, axis = 0)\n",
    "\n",
    "#predict the result\n",
    "result = new_model.predict(test_image)"
   ]
  },
  {
   "cell_type": "code",
   "execution_count": 9,
   "id": "6a3fa293-ced7-4d60-adfa-dde6cb802c1c",
   "metadata": {},
   "outputs": [
    {
     "name": "stdout",
     "output_type": "stream",
     "text": [
      "[0.99704385]\n"
     ]
    }
   ],
   "source": [
    "print(result[0])"
   ]
  },
  {
   "cell_type": "markdown",
   "id": "d3405e97-d6bc-496d-9e58-da8b845936c9",
   "metadata": {},
   "source": [
    "# bening"
   ]
  },
  {
   "cell_type": "code",
   "execution_count": 21,
   "id": "109a5a69-2e2d-4605-82ad-bd3d0119dc03",
   "metadata": {},
   "outputs": [],
   "source": [
    "imag_path2 = \"testing/bening/breast_benign_0023.jpg\""
   ]
  },
  {
   "cell_type": "code",
   "execution_count": 22,
   "id": "760057d1-435d-4c7e-b57b-352f2da204a1",
   "metadata": {},
   "outputs": [
    {
     "name": "stdout",
     "output_type": "stream",
     "text": [
      "1/1 [==============================] - 0s 52ms/step\n"
     ]
    }
   ],
   "source": [
    "test_image2 = tf.keras.utils.load_img(imag_path2,target_size=(224,224))  \n",
    "test_image2 = tf.keras.utils.img_to_array(test_image2)\n",
    "test_image2 = np.expand_dims(test_image2, axis = 0)\n",
    "\n",
    "#predict the result\n",
    "result2 = new_model.predict(test_image2)"
   ]
  },
  {
   "cell_type": "code",
   "execution_count": 23,
   "id": "3886bef3-6cc6-4dc0-ac95-309ef637b331",
   "metadata": {},
   "outputs": [
    {
     "name": "stdout",
     "output_type": "stream",
     "text": [
      "[6.745419e-14]\n"
     ]
    }
   ],
   "source": [
    "print(result2[0])"
   ]
  },
  {
   "cell_type": "markdown",
   "id": "e7b74d33-d635-4703-a170-32ab61c8506b",
   "metadata": {},
   "source": [
    "# GREAT JOB"
   ]
  },
  {
   "cell_type": "code",
   "execution_count": null,
   "id": "34380b5a-56a6-4f38-b8b9-d763e06fea31",
   "metadata": {},
   "outputs": [],
   "source": []
  }
 ],
 "metadata": {
  "kernelspec": {
   "display_name": "Python 3 (ipykernel)",
   "language": "python",
   "name": "python3"
  },
  "language_info": {
   "codemirror_mode": {
    "name": "ipython",
    "version": 3
   },
   "file_extension": ".py",
   "mimetype": "text/x-python",
   "name": "python",
   "nbconvert_exporter": "python",
   "pygments_lexer": "ipython3",
   "version": "3.11.7"
  }
 },
 "nbformat": 4,
 "nbformat_minor": 5
}
